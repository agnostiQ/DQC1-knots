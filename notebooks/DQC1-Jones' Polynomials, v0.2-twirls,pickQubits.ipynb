{
 "cells": [
  {
   "cell_type": "markdown",
   "metadata": {},
   "source": [
    "# Setup\n",
    "## <font color=brown>Environment and imports</font>"
   ]
  },
  {
   "cell_type": "markdown",
   "metadata": {},
   "source": [
    "### <font color=blue>Paths & Imports</font>"
   ]
  },
  {
   "cell_type": "code",
   "execution_count": null,
   "metadata": {},
   "outputs": [],
   "source": [
    "#Paths\n",
    "import os, math, json, time, sys, getpass\n",
    "if os.name=='posix':\n",
    "    rootDir = '/Users/edrazor/OneDrive/CurrentWork/AgnostiQ/IBM-DQC1/'\n",
    "elif os.name=='nt':\n",
    "    rootDir = '/Users/Ed Gonzalez/OneDrive/CurrentWork/AgnostiQ/IBM-DQC1/'\n",
    "\n",
    "os.chdir(rootDir + 'src/')\n",
    "\n",
    "#IPython imports option\n",
    "%load_ext autoreload\n",
    "%autoreload 2  #Refresh modules upon change\n",
    "\n",
    "#IBM QASM imports\n",
    "from IBMQuantumExperience import IBMQuantumExperience\n",
    "from qiskit import QuantumCircuit, ClassicalRegister, QuantumRegister, QISKitError, qasm, IBMQ, compile\n",
    "\n",
    "#Numpy / Scipy / Matplotlib etc.\n",
    "import numpy as np\n",
    "import matplotlib.pyplot as plt\n",
    "import matplotlib.cm as cm\n",
    "%matplotlib inline\n",
    "import itertools\n",
    "from scipy import linalg as la\n",
    "from pprint import pprint\n",
    "\n",
    "#Current project imports\n",
    "import utils\n",
    "import DQC13twirlrandomized as b3"
   ]
  },
  {
   "cell_type": "code",
   "execution_count": null,
   "metadata": {},
   "outputs": [],
   "source": [
    "from qiskit import providers"
   ]
  },
  {
   "cell_type": "markdown",
   "metadata": {},
   "source": [
    "### <font color=blue>IBM token registration</font>"
   ]
  },
  {
   "cell_type": "code",
   "execution_count": null,
   "metadata": {},
   "outputs": [],
   "source": [
    "#Setup IBM token\n",
    "APItoken = \"Input key here.\"\n",
    "qx_url = \"https://quantumexperience.ng.bluemix.net/api\"\n",
    "\n",
    "ibmqe = IBMQ.enable_account(APItoken, qx_url)"
   ]
  },
  {
   "cell_type": "markdown",
   "metadata": {},
   "source": [
    "# 3-Braid section\n",
    "## <font color=brown>Circuit definitions and compilation</font>"
   ]
  },
  {
   "cell_type": "code",
   "execution_count": null,
   "metadata": {},
   "outputs": [],
   "source": [
    "layoutIndices = [\n",
    "    [ 1, 0],\n",
    "    [13, 1],\n",
    "    [ 1, 2],\n",
    "    [13,12],\n",
    "    [12, 2],\n",
    "    [ 2, 3],\n",
    "    [11,12],\n",
    "    [11, 3],\n",
    "    [ 4, 3],\n",
    "    [11,10],\n",
    "    [ 4,10],\n",
    "    [ 5, 4],\n",
    "    [ 9,10],\n",
    "    [ 5, 9],\n",
    "    [ 5, 6],\n",
    "    [ 9, 8],\n",
    "    [ 6, 8],\n",
    "    [ 7, 8]\n",
    "]\n",
    "\n",
    "def get_layout(indices):\n",
    "    return {(\"qr\",0):(\"qr\",indices[0]),(\"qr\",1):(\"qr\",indices[1])}"
   ]
  },
  {
   "cell_type": "code",
   "execution_count": null,
   "metadata": {},
   "outputs": [],
   "source": [
    "shots = 1024\n",
    "reps = 10  #Number of times to evaluate a polynomial.\n",
    "pollingT = 60  #How frequently to poll IBM (in secs) while waiting for job to complete.\n",
    "\n",
    "# =============Knot selection===========#\n",
    "writhe= np.array(1*[0,1,2,3,4,5,6,7,8,9])\n",
    "#opSeq = ['s23']\n",
    "opSeq = ['s12']\n",
    "\n",
    "norm  = b3.getNorm(writhe)\n",
    "\n",
    "# ===========Backend selection==========#\n",
    "#backend = IBMQ.get_backend('ibmq_qasm_simulator')\n",
    "#backend = IBMQ.get_backend('ibmqx5')\n",
    "backend = IBMQ.get_backend('ibmq_16_melbourne')\n",
    "#backend = IBMQ.get_backend('ibmqx4')\n",
    "#backend = IBMQ.get_backend('ibmqx2')\n",
    "\n",
    "# ======Compile for target backend======#\n",
    "#compiledJob = b3.buildJob(opSeq, shots, backend, reps)\n",
    "compiledJob = b3.buildJob(opSeq, shots, backend, reps, get_layout(layoutIndices[17]))\n",
    "compiledJobArray = []\n",
    "for idx in range(5):\n",
    "    compiledJobArray.append(compiledJob)"
   ]
  },
  {
   "cell_type": "markdown",
   "metadata": {},
   "source": [
    "### <font color=blue>Execute Job!</font>"
   ]
  },
  {
   "cell_type": "code",
   "execution_count": null,
   "metadata": {
    "scrolled": true
   },
   "outputs": [],
   "source": [
    "resultsArray = []\n",
    "for idx in range(5):\n",
    "    runjobs = backend.run(compiledJobArray[idx])\n",
    "    print(\"Init stat, #\",idx, \": \", runjobs.status())\n",
    "\n",
    "    flagDone = False\n",
    "    idx = 0\n",
    "    while not flagDone:\n",
    "        time.sleep(pollingT)\n",
    "        flagDone = (runjobs.status() == providers.JobStatus.DONE)\n",
    "        print(\"Status: \", runjobs.status(), \", Queue position is \", runjobs.queue_position())\n",
    "        idx += 1\n",
    "    resultsArray.append(runjobs.result())"
   ]
  },
  {
   "cell_type": "markdown",
   "metadata": {},
   "source": [
    "## <font color=brown>Collect results</font>"
   ]
  },
  {
   "cell_type": "code",
   "execution_count": null,
   "metadata": {},
   "outputs": [],
   "source": [
    "def padDict_2Q(resDict):\n",
    "    \"\"\"\n",
    "    Pad dictionary of resulting counts from a 2-qubit experiment\n",
    "    By default, if there are no counts in a particular computational basis,\n",
    "    that result is not added as a key in the dictionary, making subsequent\n",
    "    addition difficult\n",
    "    \"\"\"\n",
    "    bases = ['00','01','10','11']\n",
    "    for basis in bases:\n",
    "        count = resDict.get(basis)\n",
    "        if count == None:\n",
    "            resDict.update({basis:0})\n",
    "\n",
    "def addDict_2Q(res1,res2):\n",
    "    \"\"\"\n",
    "    Take two dictionary of counts from IBMQ.\n",
    "    Adds counts in the second to the first.\n",
    "    \"\"\"\n",
    "    padDict_2Q(res1)\n",
    "    padDict_2Q(res2)\n",
    "    \n",
    "    for basis in res2:\n",
    "        res1[basis] += res2[basis]"
   ]
  },
  {
   "cell_type": "code",
   "execution_count": null,
   "metadata": {},
   "outputs": [],
   "source": [
    "def computeJones(rawResults, rep):\n",
    "    \"\"\"\n",
    "    Takes a 'results' object from a QPU or QASM simulator.\n",
    "    Returns Jones' polynomial evaluation for the \"rep\"-th evaluation.\n",
    "    \"\"\"\n",
    "    #Retrieve weight 1 counts\n",
    "    arrState = np.array(['o','x'])\n",
    "    arrBasis = np.array(['x','y'])\n",
    "    arrZipped = utils.zipTuple(arrBasis,arrState)\n",
    "    countW1 = 4*['']\n",
    "    idx = 0\n",
    "    for i in arrZipped:\n",
    "        name = \"Rep\" + str(rep) + \",Weight 1,\" + i[0] + i[1]\n",
    "        countW1[idx] = rawResults.get_counts(name)\n",
    "        idx += 1\n",
    "\n",
    "    #Retrieve weight 2 counts\n",
    "    arrState = np.array(['x'])\n",
    "    arrBasis = np.array(['x','y'])\n",
    "    arrZipped= utils.zipTuple(arrBasis,arrState)\n",
    "    countW2 = 2*['']\n",
    "    idx = 0\n",
    "    for i in arrZipped:\n",
    "        name = \"Rep\" + str(rep) + \",Weight 2,\" + i[0] + i[1]\n",
    "        countW2[idx] = rawResults.get_counts(name)\n",
    "        idx += 1\n",
    "\n",
    "    return -b3.computeJones(countW1, countW2)*norm[rep]"
   ]
  },
  {
   "cell_type": "code",
   "execution_count": null,
   "metadata": {},
   "outputs": [],
   "source": [
    "def computeJonesConcat(rawResultsArray, rep):\n",
    "    \"\"\"\n",
    "    Assuming we ran the experiment for 18 different layout maps on the QPU,\n",
    "    concatenate all 18 experiments for a given twirl number.\n",
    "    \"\"\"\n",
    "    #Retrieve weight 1 counts\n",
    "    arrState = np.array(['o','x'])\n",
    "    arrBasis = np.array(['x','y'])\n",
    "    arrZipped = utils.zipTuple(arrBasis,arrState)\n",
    "    countW1 = 4*['']\n",
    "    idx = 0\n",
    "    for i in arrZipped:\n",
    "        for layout in range(18):\n",
    "            name = \"Rep\" + str(rep) + \",Weight 1,\" + i[0] + i[1]\n",
    "            if layout == 0:\n",
    "                countTemp = rawResultsArray[layout].get_counts(name).copy()\n",
    "            else:\n",
    "                addDict_2Q(countTemp,rawResultsArray[layout].get_counts(name))\n",
    "        countW1[idx] = countTemp.copy()\n",
    "        idx += 1\n",
    "\n",
    "    #Retrieve weight 2 counts\n",
    "    arrState = np.array(['x'])\n",
    "    arrBasis = np.array(['x','y'])\n",
    "    arrZipped= utils.zipTuple(arrBasis,arrState)\n",
    "    countW2 = 2*['']\n",
    "    idx = 0\n",
    "    for i in arrZipped:\n",
    "        for layout in range(18):\n",
    "            name = \"Rep\" + str(rep) + \",Weight 2,\" + i[0] + i[1]\n",
    "            if layout == 0:\n",
    "                countTemp = rawResultsArray[layout].get_counts(name).copy()\n",
    "            else:\n",
    "                addDict_2Q(countTemp,rawResultsArray[layout].get_counts(name))\n",
    "        countW2[idx] = countTemp.copy()\n",
    "        idx += 1\n",
    "\n",
    "    return -b3.computeJones(countW1, countW2)*norm[rep]"
   ]
  },
  {
   "cell_type": "markdown",
   "metadata": {},
   "source": [
    "### <font color=blue>Compute and print out Jones' polynomial evaluations</font>"
   ]
  },
  {
   "cell_type": "code",
   "execution_count": null,
   "metadata": {},
   "outputs": [],
   "source": [
    "jonesVals = []\n",
    "for rep in range(reps):\n",
    "    jonesVals.append(computeJonesConcat(resultsArray, rep))\n",
    "    print(jonesVals[rep])"
   ]
  },
  {
   "cell_type": "code",
   "execution_count": null,
   "metadata": {},
   "outputs": [],
   "source": [
    "for idx in range(5):\n",
    "    results = resultsArray[idx]\n",
    "    jonesVals = reps*['']\n",
    "    for rep in range(reps):\n",
    "        jonesVals[rep] = computeJones(results, rep)\n",
    "        print(jonesVals[rep])"
   ]
  },
  {
   "cell_type": "markdown",
   "metadata": {},
   "source": [
    "# Repeat once"
   ]
  },
  {
   "cell_type": "code",
   "execution_count": null,
   "metadata": {},
   "outputs": [],
   "source": [
    "shots = 1024\n",
    "reps = 10  #Number of times to evaluate a polynomial.\n",
    "pollingT = 60  #How frequently to poll IBM (in secs) while waiting for job to complete.\n",
    "\n",
    "# =============Knot selection===========#\n",
    "writhe= np.array(3*[0,1,2,3,4,5,6,7,8,9])\n",
    "#opSeq = ['s23']\n",
    "opSeq = ['s12']\n",
    "\n",
    "norm  = b3.getNorm(writhe)\n",
    "\n",
    "# ===========Backend selection==========#\n",
    "#backend = IBMQ.get_backend('ibmq_qasm_simulator')\n",
    "#backend = IBMQ.get_backend('ibmqx5')\n",
    "backend = IBMQ.get_backend('ibmq_16_melbourne')\n",
    "#backend = IBMQ.get_backend('ibmqx4')\n",
    "#backend = IBMQ.get_backend('ibmqx2')\n",
    "\n",
    "# ======Compile for target backend======#\n",
    "#compiledJob = b3.buildJob(opSeq, shots, backend, reps)\n",
    "compiledJobArray = []\n",
    "for idx in range(18):\n",
    "    compiledJobArray.append(b3.buildJob(opSeq, shots, backend, reps, get_layout(layoutIndices[idx])))"
   ]
  },
  {
   "cell_type": "code",
   "execution_count": null,
   "metadata": {},
   "outputs": [],
   "source": [
    "resultsArray = []\n",
    "for idx in range(18):\n",
    "    runjobs = backend.run(compiledJobArray[idx])\n",
    "    print(\"Init stat, #\",idx, \": \", runjobs.status())\n",
    "\n",
    "    flagDone = False\n",
    "    idx = 0\n",
    "    while not flagDone:\n",
    "        time.sleep(pollingT)\n",
    "        flagDone = (runjobs.status() == providers.JobStatus.DONE)\n",
    "        print(\"Status: \", runjobs.status(), \", Queue position is \", runjobs.queue_position())\n",
    "        idx += 1\n",
    "    resultsArray.append(runjobs.result())"
   ]
  },
  {
   "cell_type": "code",
   "execution_count": null,
   "metadata": {},
   "outputs": [],
   "source": [
    "jonesVals = []\n",
    "for rep in range(reps):\n",
    "    jonesVals.append(computeJonesConcat(resultsArray, rep))\n",
    "    print(jonesVals[rep])"
   ]
  },
  {
   "cell_type": "code",
   "execution_count": null,
   "metadata": {},
   "outputs": [],
   "source": [
    "for idx in range(18):\n",
    "    results = resultsArray[idx]\n",
    "    jonesVals = reps*['']\n",
    "    for rep in range(reps):\n",
    "        jonesVals[rep] = computeJones(results, rep)\n",
    "        print(jonesVals[rep])"
   ]
  },
  {
   "cell_type": "markdown",
   "metadata": {},
   "source": [
    "### <font color=blue>Trash code to print out raw counts for troubleshooting</font>"
   ]
  },
  {
   "cell_type": "code",
   "execution_count": null,
   "metadata": {},
   "outputs": [],
   "source": [
    "countW1tr = 2*['']\n",
    "idx = 0\n",
    "for i in countW2:\n",
    "    countW1tr[idx] = utils.traceGetCount(i, [1])\n",
    "    idx += 1\n",
    "\n",
    "print(countW1tr)"
   ]
  },
  {
   "cell_type": "code",
   "execution_count": null,
   "metadata": {},
   "outputs": [],
   "source": [
    "countW1tr = 4*['']\n",
    "idx = 0\n",
    "for i in countW1:\n",
    "    countW1tr[idx] = utils.traceGetCount(i, [1])\n",
    "    idx += 1\n",
    "\n",
    "print(countW1tr)"
   ]
  },
  {
   "cell_type": "markdown",
   "metadata": {},
   "source": [
    "### <font color=blue>Print backend low-level stats</font>"
   ]
  },
  {
   "cell_type": "code",
   "execution_count": null,
   "metadata": {},
   "outputs": [],
   "source": [
    "backend = IBMQ.get_backend('ibmq_16_melbourne')\n",
    "nqubits = 14\n",
    "params = backend.properties()['qubits']\n",
    "\n",
    "pulse_length = nqubits*[[]]\n",
    "buffer_length = nqubits*[[]]\n",
    "t1times = nqubits*[[]]\n",
    "t2times = nqubits*[[]]\n",
    "\n",
    "for idx in range(nqubits):\n",
    "    pulse_length[idx] = [params[idx]['gateTime']['value'],params[idx]['gateTime']['unit']] # single-qubit gate time\n",
    "    buffer_length[idx] = [params[idx]['buffer']['value'],params[idx]['buffer']['unit']] # spacing between pulses\n",
    "    t1times[idx] = [params[idx]['T1']['value'],params[idx]['T1']['unit']] # spacing between pulses\n",
    "    t2times[idx] = [params[idx]['T2']['value'],params[idx]['T2']['unit']] # spacing between pulses"
   ]
  },
  {
   "cell_type": "markdown",
   "metadata": {},
   "source": [
    "# Changelog\n",
    "From v0.1, modified syntactically to handle deprecation of a bunch of stuff in qiskit 0.6.\n",
    "- Mainly, QuantumProgram() is deprecated. Instead, compile() takes a LIST of QuantumCircuit().\n",
    "    - QuantumCircuit(), in addition to taking QuantumRegister and ClassicalRegister, also takes 'names='\n",
    "    - These same names are used for count retrieval.\n",
    "- backend sent to compile() is no-longer a string but an object retrieved with IBMQ.get_backend(\"backend name\")"
   ]
  },
  {
   "cell_type": "code",
   "execution_count": null,
   "metadata": {},
   "outputs": [],
   "source": []
  }
 ],
 "metadata": {
  "kernelspec": {
   "display_name": "Python 3",
   "language": "python",
   "name": "python3"
  },
  "language_info": {
   "codemirror_mode": {
    "name": "ipython",
    "version": 3
   },
   "file_extension": ".py",
   "mimetype": "text/x-python",
   "name": "python",
   "nbconvert_exporter": "python",
   "pygments_lexer": "ipython3",
   "version": "3.7.3"
  }
 },
 "nbformat": 4,
 "nbformat_minor": 2
}
